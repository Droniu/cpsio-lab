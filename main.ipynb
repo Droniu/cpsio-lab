{
 "cells": [
  {
   "cell_type": "markdown",
   "metadata": {},
   "source": [
    "### Single plot\n",
    "The cell bellow illustrates data from `ekg100.txt` file."
   ]
  },
  {
   "cell_type": "code",
   "execution_count": null,
   "metadata": {},
   "outputs": [],
   "source": [
    "import matplotlib.pyplot as plt\n",
    "import numpy as np\n",
    "\n",
    "%matplotlib widget\n",
    "\n",
    "# plot size\n",
    "plt.rcParams[\"figure.figsize\"] = (14,4)\n",
    "\n",
    "# data\n",
    "data = np.fromfile('data/ekg100.txt', sep=' ')\n",
    "\n",
    "# given that Fs = 360 Hz\n",
    "SAMPLING_RATE = 360\n",
    "\n",
    "X_range = np.arange(stop=(len(data)))\n",
    "X = X_range / SAMPLING_RATE\n",
    "\n",
    "plt.plot(X, data)\n",
    "plt.xlabel(\"Time [s]\")\n",
    "plt.ylabel(\"Voltage [mV]\")\n",
    "plt.show()"
   ]
  },
  {
   "cell_type": "markdown",
   "metadata": {},
   "source": [
    "## Sine signal"
   ]
  },
  {
   "cell_type": "code",
   "execution_count": null,
   "metadata": {},
   "outputs": [],
   "source": [
    "\n",
    "plt.clf()\n",
    "FS = 50 #Hz\n",
    "LENGTH = 65536\n",
    "SAMPLES = np.arange(0, LENGTH) / FS\n",
    "\n",
    "\n",
    "SINE = np.sin(SAMPLES)\n",
    "\n",
    "plt.plot(SAMPLES, SINE)\n",
    "plt.show()\n",
    "\n"
   ]
  },
  {
   "cell_type": "markdown",
   "metadata": {},
   "source": [
    "## Fourier transform of signal"
   ]
  },
  {
   "cell_type": "code",
   "execution_count": null,
   "metadata": {},
   "outputs": [],
   "source": [
    "FFT = np.fft.fft(SINE)\n",
    "\n",
    "X_FFT = np.linspace(0, FS/2)\n",
    "\n",
    "plt.plot(np.abs(FFT))\n",
    "plt.show()"
   ]
  }
 ],
 "metadata": {
  "interpreter": {
   "hash": "0357f6f893264eee0493d4613e16210b0fe469823cb477ec537718e23569a520"
  },
  "kernelspec": {
   "display_name": "Python 3.9.7 64-bit ('3.9.7')",
   "language": "python",
   "name": "python3"
  },
  "language_info": {
   "codemirror_mode": {
    "name": "ipython",
    "version": 3
   },
   "file_extension": ".py",
   "mimetype": "text/x-python",
   "name": "python",
   "nbconvert_exporter": "python",
   "pygments_lexer": "ipython3",
   "version": "3.9.7"
  },
  "orig_nbformat": 4
 },
 "nbformat": 4,
 "nbformat_minor": 2
}
